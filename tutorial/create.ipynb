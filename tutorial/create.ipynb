{
 "cells": [
  {
   "cell_type": "markdown",
   "metadata": {},
   "source": [
    "# Database creating"
   ]
  },
  {
   "cell_type": "raw",
   "metadata": {},
   "source": [
    "    $ postgres# create schema name"
   ]
  },
  {
   "cell_type": "markdown",
   "metadata": {},
   "source": [
    "### There are two possible types of database:\n",
    "- Storing only reaction\\molecule structures:\n",
    "        $ cgrdb create -n name -p password"
   ]
  },
  {
   "cell_type": "markdown",
   "metadata": {},
   "source": [
    "- Storing structures with metadata (conditions, properties):\n",
    "        $ cgrdb create -n name -p password --config path/to/config.json "
   ]
  },
  {
   "cell_type": "markdown",
   "metadata": {},
   "source": [
    "config.json example:\n",
    "\n",
    "    {\"packages\": [\"CGRdbUser==3.1\", \"CGRdbData==3.1\"]}"
   ]
  },
  {
   "cell_type": "markdown",
   "metadata": {},
   "source": [
    "Packages CGRdbData, CGRdbUser should be installed in advance.\n"
   ]
  },
  {
   "cell_type": "markdown",
   "metadata": {},
   "source": [
    "    Installing\n",
    "\n",
    "    $ curl https://codeload.github.com/stsouko/CGRdb/tar.gz/master | tar -xz --strip=1 CGRdb-master/USER\n",
    "    \n",
    "    $ cd USER/\n",
    "    \n",
    "    $ pip install ."
   ]
  },
  {
   "cell_type": "markdown",
   "metadata": {},
   "source": [
    "By default, reaction's conditions and molecule's properties are stored in a such tables:\n",
    "\n",
    "    |          ReactionConditions         |        |          MoleculeProperties         |        \n",
    "    |-------------------------------------|        |-------------------------------------|\n",
    "    | id | date | user | structure | data |        | id | date | user | structure | data |\n",
    "    \n",
    "Metadata should be converted into json.\n",
    "One reaction/molecule covers many conditions/properties and one condition/property covers only one reaction/molecule.\n",
    "\n",
    "Also, there is a possibility of classifying molecules\\reactions using Class tables:\n",
    "\n",
    "                  |     ReactionClass     |        |      MoleculeClass    |        \n",
    "                  |-----------------------|        |-----------------------|\n",
    "                  |  id  |  name  | type  |        |  id  |  name  | type  | \n",
    "                  \n",
    "One reaction/molecule may have many classes, one class can cover many reactions/molecules. \n",
    "Many-to-many relationship between these tables is presented in a separate table."
   ]
  }
 ],
 "metadata": {
  "kernelspec": {
   "display_name": "cgrdb",
   "language": "python",
   "name": "cgrdb"
  },
  "language_info": {
   "codemirror_mode": {
    "name": "ipython",
    "version": 3
   },
   "file_extension": ".py",
   "mimetype": "text/x-python",
   "name": "python",
   "nbconvert_exporter": "python",
   "pygments_lexer": "ipython3",
   "version": "3.7.1"
  }
 },
 "nbformat": 4,
 "nbformat_minor": 2
}
