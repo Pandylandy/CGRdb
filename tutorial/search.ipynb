{
 "cells": [
  {
   "cell_type": "code",
   "execution_count": 11,
   "metadata": {},
   "outputs": [],
   "source": [
    "from CGRdb import load_schema\n",
    "import os\n",
    "from CGRtools.files import *\n",
    "\n",
    "os.environ['PATH']+=':/opt/fragmentor'  # path to ISIDA fragmentor"
   ]
  },
  {
   "cell_type": "markdown",
   "metadata": {},
   "source": [
    "# Create the database entity object"
   ]
  },
  {
   "cell_type": "code",
   "execution_count": 2,
   "metadata": {},
   "outputs": [
    {
     "name": "stderr",
     "output_type": "stream",
     "text": [
      "/users/adelia/env/lib/python3.7/site-packages/LazyPony/__init__.py:80: UserWarning: for many-to-many relationship if schema used NEED to define m2m table name\n",
      "  warn('for many-to-many relationship if schema used NEED to define m2m table name')\n"
     ]
    }
   ],
   "source": [
    "db = load_schema('db_name', user='user', password='pass', host='localhost', database='postgres')"
   ]
  },
  {
   "cell_type": "markdown",
   "metadata": {},
   "source": [
    "# Fill database"
   ]
  },
  {
   "cell_type": "code",
   "execution_count": null,
   "metadata": {},
   "outputs": [],
   "source": [
    "from CGRtools.files import *\n",
    "from pony.orm import db_session\n",
    "with db_session:\n",
    "    db.User(1, 'name')\n",
    "    \n",
    "reactions = RDFread('data.rdf')\n",
    "molecules = SDFread('mol.sdf')\n",
    "for reaction in reactions:\n",
    "    db.Reaction(structure=reaction, user=db.User[1])\n",
    "\n",
    "for molecule in molecules:\n",
    "    db.Molecule(structure=molecule, user=db.User[1])\n",
    "    "
   ]
  },
  {
   "cell_type": "markdown",
   "metadata": {},
   "source": [
    "# Get all molecule and reaction entity objects"
   ]
  },
  {
   "cell_type": "code",
   "execution_count": 7,
   "metadata": {},
   "outputs": [],
   "source": [
    "Molecules = db.Molecule\n",
    "Reactions = db.Reaction"
   ]
  },
  {
   "cell_type": "markdown",
   "metadata": {},
   "source": [
    "Get a molecular structure. If you need to get a SMILES representation use: print(structure)"
   ]
  },
  {
   "cell_type": "code",
   "execution_count": 8,
   "metadata": {},
   "outputs": [
    {
     "name": "stdout",
     "output_type": "stream",
     "text": [
      "C-C-C-C-C-Br\n"
     ]
    },
    {
     "data": {
      "image/svg+xml": [
       "<svg width=\"4.57cm\" height=\"1.41cm\" viewBox=\"-0.50 -0.91 4.57 1.41\" xmlns=\"http://www.w3.org/2000/svg\" version=\"1.1\">\n",
       "  <g font-family=\"sans-serif\">\n",
       "    <g fill=\"#A62929\">\n",
       "      <text x=\"-0.14\" y=\"0.14\" font-size=\"0.40\">Br</text>\n",
       "    </g>\n",
       "  </g>\n",
       "  <g fill=\"none\" stroke=\"black\" stroke-width=\".03\">\n",
       "    <line x1=\"0.18\" y1=\"-0.11\" x2=\"0.71\" y2=\"-0.41\" />\n",
       "    <line x1=\"0.71\" y1=\"-0.41\" x2=\"1.43\" y2=\"-0.00\" />\n",
       "    <line x1=\"1.43\" y1=\"-0.00\" x2=\"2.14\" y2=\"-0.41\" />\n",
       "    <line x1=\"2.14\" y1=\"-0.41\" x2=\"2.86\" y2=\"-0.00\" />\n",
       "    <line x1=\"2.86\" y1=\"-0.00\" x2=\"3.57\" y2=\"-0.41\" />\n",
       "  </g>\n",
       "</svg>"
      ],
      "text/plain": [
       "<CGRtools.containers.molecule.MoleculeContainer at 0x7f50fef90548>"
      ]
     },
     "execution_count": 8,
     "metadata": {},
     "output_type": "execute_result"
    }
   ],
   "source": [
    "molecule1 = Molecules[1]  # first molecule in db\n",
    "structure = molecule1.structure  # molecular structure \n",
    "print(structure)\n",
    "structure"
   ]
  },
  {
   "cell_type": "markdown",
   "metadata": {},
   "source": [
    "Get a reaction structure in SMIRKS representation."
   ]
  },
  {
   "cell_type": "code",
   "execution_count": 9,
   "metadata": {},
   "outputs": [
    {
     "name": "stdout",
     "output_type": "stream",
     "text": [
      "[N+].[Cl-].C-C-C-C-C-Br>>C-C-C-C-C-C(=C)-C=C\n"
     ]
    },
    {
     "data": {
      "image/svg+xml": [
       "<svg width=\"16.16cm\" height=\"2.24cm\" viewBox=\"-0.50 -1.74 16.16 2.24\" xmlns=\"http://www.w3.org/2000/svg\" version=\"1.1\">\n",
       "  <defs><marker id=\"arrow\" markerWidth=\"10\" markerHeight=\"10\" refX=\"0\" refY=\"3\" orient=\"auto\"><path d=\"M0,0 L0,6 L9,3 z\" /></marker></defs>\n",
       "  <line x1=\"7.16\" y1=\"-1\" x2=\"9.16\" y2=\"-1\" fill=\"none\" stroke=\"black\" stroke-width=\".04\" marker-end=\"url(#arrow)\" />\n",
       "  <g font-family=\"sans-serif\">\n",
       "    <g fill=\"#A62929\">\n",
       "      <text x=\"-0.14\" y=\"0.14\" font-size=\"0.40\">Br</text>\n",
       "    </g>\n",
       "  </g>\n",
       "  <g fill=\"none\" stroke=\"black\" stroke-width=\".03\">\n",
       "    <line x1=\"0.18\" y1=\"-0.11\" x2=\"0.71\" y2=\"-0.41\" />\n",
       "    <line x1=\"0.71\" y1=\"-0.41\" x2=\"1.43\" y2=\"-0.00\" />\n",
       "    <line x1=\"1.43\" y1=\"-0.00\" x2=\"2.14\" y2=\"-0.41\" />\n",
       "    <line x1=\"2.14\" y1=\"-0.41\" x2=\"2.86\" y2=\"-0.00\" />\n",
       "    <line x1=\"2.86\" y1=\"-0.00\" x2=\"3.57\" y2=\"-0.41\" />\n",
       "  </g>\n",
       "  <g font-family=\"sans-serif\">\n",
       "    <g fill=\"#1FF01F\">\n",
       "      <text x=\"4.43\" y=\"0.14\" font-size=\"0.40\">Cl</text>\n",
       "      <text x=\"4.71\" y=\"-0.14\" font-size=\"0.30\">⁃</text>\n",
       "    </g>\n",
       "    <g fill=\"#3050F8\">\n",
       "      <text x=\"6.02\" y=\"0.14\" font-size=\"0.40\">N</text>\n",
       "      <text x=\"6.30\" y=\"-0.14\" font-size=\"0.30\">+</text>\n",
       "    </g>\n",
       "  </g>\n",
       "  <g fill=\"none\" stroke=\"black\" stroke-width=\".03\">\n",
       "  </g>\n",
       "  <g fill=\"none\" stroke=\"black\" stroke-width=\".03\">\n",
       "    <line x1=\"12.31\" y1=\"-1.24\" x2=\"11.59\" y2=\"-0.82\" />\n",
       "    <line x1=\"12.31\" y1=\"-1.24\" x2=\"13.02\" y2=\"-0.82\" />\n",
       "    <line x1=\"11.59\" y1=\"-0.82\" x2=\"10.88\" y2=\"-1.24\" />\n",
       "    <line x1=\"11.55\" y1=\"-0.82\" x2=\"11.55\" y2=\"0.00\" />\n",
       "    <line x1=\"11.63\" y1=\"-0.82\" x2=\"11.63\" y2=\"-0.00\" />\n",
       "    <line x1=\"10.86\" y1=\"-1.27\" x2=\"10.14\" y2=\"-0.86\" />\n",
       "    <line x1=\"10.90\" y1=\"-1.20\" x2=\"10.18\" y2=\"-0.79\" />\n",
       "    <line x1=\"13.02\" y1=\"-0.82\" x2=\"13.74\" y2=\"-1.24\" />\n",
       "    <line x1=\"13.74\" y1=\"-1.24\" x2=\"14.45\" y2=\"-0.82\" />\n",
       "    <line x1=\"14.45\" y1=\"-0.82\" x2=\"15.16\" y2=\"-1.24\" />\n",
       "  </g>\n",
       "</svg>"
      ],
      "text/plain": [
       "<CGRtools.containers.reaction.ReactionContainer at 0x7f512377f6a8>"
      ]
     },
     "execution_count": 9,
     "metadata": {},
     "output_type": "execute_result"
    }
   ],
   "source": [
    "reaction = Reactions[1]\n",
    "structure = reaction.structure \n",
    "print(structure)\n",
    "structure"
   ]
  },
  {
   "cell_type": "markdown",
   "metadata": {},
   "source": [
    "If you need to store molecules/reactions from db into SDFile/RDFile:"
   ]
  },
  {
   "cell_type": "code",
   "execution_count": 12,
   "metadata": {},
   "outputs": [],
   "source": [
    "with SDFwrite('molecules.sdf') as file:\n",
    "    for molecule in Molecules.select()[:10]:\n",
    "        file.write(molecule.structure)\n",
    "        \n",
    "with RDFwrite('reactions.rdf') as file:\n",
    "    for reaction in Reactions.select()[:10]:\n",
    "        file.write(reaction.structure)\n",
    "        "
   ]
  },
  {
   "cell_type": "markdown",
   "metadata": {},
   "source": [
    "# 3. Search "
   ]
  },
  {
   "cell_type": "markdown",
   "metadata": {},
   "source": [
    "   # Molecule Search\n",
    "   Substructure and Similarity search returns list of tuples contains result molecule and Tanimoto coefficient. \n",
    "1. Structure search\n"
   ]
  },
  {
   "cell_type": "code",
   "execution_count": 31,
   "metadata": {},
   "outputs": [
    {
     "data": {
      "text/plain": [
       "Molecule[8]"
      ]
     },
     "execution_count": 31,
     "metadata": {},
     "output_type": "execute_result"
    }
   ],
   "source": [
    "query = SDFread('molecules.sdf').read()[7]\n",
    "db.Molecule.find_structure(query)"
   ]
  },
  {
   "cell_type": "markdown",
   "metadata": {},
   "source": [
    "2. Substructure search"
   ]
  },
  {
   "cell_type": "code",
   "execution_count": 16,
   "metadata": {},
   "outputs": [],
   "source": [
    "substructures = db.Molecule.find_substructures(query)"
   ]
  },
  {
   "cell_type": "code",
   "execution_count": 17,
   "metadata": {},
   "outputs": [
    {
     "data": {
      "text/plain": [
       "[(Molecule[8], 1.0),\n",
       " (Molecule[274062], 1.0),\n",
       " (Molecule[348007], 0.666666686534882),\n",
       " (Molecule[175109], 0.5),\n",
       " (Molecule[688526], 0.5),\n",
       " (Molecule[15646], 0.5),\n",
       " (Molecule[68990], 0.5),\n",
       " (Molecule[617562], 0.5),\n",
       " (Molecule[306425], 0.5),\n",
       " (Molecule[521019], 0.5)]"
      ]
     },
     "execution_count": 17,
     "metadata": {},
     "output_type": "execute_result"
    }
   ],
   "source": [
    "substructures[:10] # list of tuples (Molecule, Tanimoto) ordered by Tanimoto"
   ]
  },
  {
   "cell_type": "markdown",
   "metadata": {},
   "source": [
    "3. Similarity search"
   ]
  },
  {
   "cell_type": "code",
   "execution_count": 21,
   "metadata": {},
   "outputs": [],
   "source": [
    "from pony.orm import db_session\n",
    "with db_session:\n",
    "    similar = db.Molecule.find_similar(query)"
   ]
  },
  {
   "cell_type": "code",
   "execution_count": 22,
   "metadata": {},
   "outputs": [
    {
     "data": {
      "text/plain": [
       "[(Molecule[8], 1.0), (Molecule[274062], 1.0)]"
      ]
     },
     "execution_count": 22,
     "metadata": {},
     "output_type": "execute_result"
    }
   ],
   "source": [
    "similar"
   ]
  },
  {
   "cell_type": "markdown",
   "metadata": {},
   "source": [
    "    Save the search results into file"
   ]
  },
  {
   "cell_type": "code",
   "execution_count": 23,
   "metadata": {},
   "outputs": [],
   "source": [
    "with SDFwrite('molecules_s.sdf') as file:\n",
    "    for t in substructures:\n",
    "        file.write(t[0].structure)\n",
    "    "
   ]
  },
  {
   "cell_type": "markdown",
   "metadata": {},
   "source": [
    "# Reaction by molecule search. \n",
    "Searching by reactions contains query molecule.\n",
    "It is also possible to search reactions with molecule (the same, superstructure, similar) in proper role: reagent or product. \n"
   ]
  },
  {
   "cell_type": "code",
   "execution_count": 32,
   "metadata": {},
   "outputs": [],
   "source": [
    "# reactions with query in reagents/products\n",
    "reactions_by_molecule = db.Molecule.find_reactions_by_molecule(query)  \n",
    "# reactions with superstructure of query in reagents/products\n",
    "reactions_with_substructures = db.Molecule.find_reaction_by_substructure_molecule(query)\n",
    "# reactions with similar to query molecules in reagents/products\n",
    "reactions_with_similar = db.Molecule.find_reaction_by_similar_molecule(query)\n",
    "# reactions with query only in reagents\n",
    "reactions_with_reagent = db.Molecule.find_reactions_by_reagent(query)\n",
    "# reactions with query only in products\n",
    "reactions_with_product = db.Molecule.find_reactions_by_product(query)\n",
    "# reactions with superstructure of query only in reagents\n",
    "reactions_with_substructure_reagent = db.Molecule.find_reactions_by_substructure_reagent(query)\n",
    "# reactions with superstructure of query only in products\n",
    "reactions_with_substructure_product = db.Molecule.find_reactions_by_substructure_product(query)\n",
    "# reactions with similar to query molecules only in reagents\n",
    "reactions_with_similar_reagent = db.Molecule.find_reactions_by_similar_reagent(query)\n",
    "# reactions with similar to query molecules only in products\n",
    "reactions_with_similar_product = db.Molecule.find_reactions_by_similar_product(query)\n"
   ]
  },
  {
   "cell_type": "code",
   "execution_count": 33,
   "metadata": {},
   "outputs": [
    {
     "name": "stdout",
     "output_type": "stream",
     "text": [
      "[<CGRtools.containers.reaction.ReactionContainer object at 0x7f50fbd8e2e8>, <CGRtools.containers.reaction.ReactionContainer object at 0x7f50fbd8e288>, <CGRtools.containers.reaction.ReactionContainer object at 0x7f50fbd8e0a8>, <CGRtools.containers.reaction.ReactionContainer object at 0x7f50fbd8e048>, <CGRtools.containers.reaction.ReactionContainer object at 0x7f50fbd8e588>]\n"
     ]
    }
   ],
   "source": [
    "print(reactions_by_molecule[:5]) # list of ReactionContainers"
   ]
  },
  {
   "cell_type": "code",
   "execution_count": 34,
   "metadata": {},
   "outputs": [
    {
     "data": {
      "image/svg+xml": [
       "<svg width=\"15.71cm\" height=\"8.84cm\" viewBox=\"-0.50 -8.34 15.71 8.84\" xmlns=\"http://www.w3.org/2000/svg\" version=\"1.1\">\n",
       "  <defs><marker id=\"arrow\" markerWidth=\"10\" markerHeight=\"10\" refX=\"0\" refY=\"3\" orient=\"auto\"><path d=\"M0,0 L0,6 L9,3 z\" /></marker></defs>\n",
       "  <line x1=\"7.21\" y1=\"-1\" x2=\"9.21\" y2=\"-1\" fill=\"none\" stroke=\"black\" stroke-width=\".04\" marker-end=\"url(#arrow)\" />\n",
       "  <g font-family=\"sans-serif\">\n",
       "    <g fill=\"#1FF01F\">\n",
       "      <text x=\"-0.14\" y=\"0.14\" font-size=\"0.40\">Cl</text>\n",
       "    </g>\n",
       "  </g>\n",
       "  <g fill=\"none\" stroke=\"black\" stroke-width=\".03\">\n",
       "  </g>\n",
       "  <g font-family=\"sans-serif\">\n",
       "    <g fill=\"#FF0D0D\">\n",
       "      <text x=\"3.00\" y=\"-6.05\" font-size=\"0.40\">O</text>\n",
       "    </g>\n",
       "    <g fill=\"#3050F8\">\n",
       "      <text x=\"2.29\" y=\"-4.81\" font-size=\"0.40\">N</text>\n",
       "    </g>\n",
       "    <g fill=\"#3050F8\">\n",
       "      <text x=\"2.29\" y=\"-3.16\" font-size=\"0.40\">N</text>\n",
       "    </g>\n",
       "    <g fill=\"#FFFF30\">\n",
       "      <text x=\"2.29\" y=\"-2.34\" font-size=\"0.40\">S</text>\n",
       "    </g>\n",
       "    <g fill=\"#FF0D0D\">\n",
       "      <text x=\"0.86\" y=\"0.14\" font-size=\"0.40\">O</text>\n",
       "    </g>\n",
       "    <g fill=\"#FF0D0D\">\n",
       "      <text x=\"3.11\" y=\"-2.33\" font-size=\"0.40\">O</text>\n",
       "    </g>\n",
       "    <g fill=\"#FF0D0D\">\n",
       "      <text x=\"1.46\" y=\"-2.34\" font-size=\"0.40\">O</text>\n",
       "    </g>\n",
       "    <g fill=\"#FF0D0D\">\n",
       "      <text x=\"1.57\" y=\"-6.05\" font-size=\"0.40\">O</text>\n",
       "    </g>\n",
       "  </g>\n",
       "  <g fill=\"none\" stroke=\"black\" stroke-width=\".03\">\n",
       "    <line x1=\"3.14\" y1=\"-7.01\" x2=\"3.14\" y2=\"-6.40\" />\n",
       "    <line x1=\"3.14\" y1=\"-7.01\" x2=\"3.14\" y2=\"-7.84\" />\n",
       "    <line x1=\"3.14\" y1=\"-7.01\" x2=\"3.97\" y2=\"-7.01\" />\n",
       "    <line x1=\"3.14\" y1=\"-7.01\" x2=\"2.32\" y2=\"-7.01\" />\n",
       "    <line x1=\"2.96\" y1=\"-6.08\" x2=\"2.43\" y2=\"-5.78\" />\n",
       "    <line x1=\"2.43\" y1=\"-5.78\" x2=\"2.43\" y2=\"-5.16\" />\n",
       "    <line x1=\"2.45\" y1=\"-5.81\" x2=\"1.92\" y2=\"-6.12\" />\n",
       "    <line x1=\"2.41\" y1=\"-5.74\" x2=\"1.88\" y2=\"-6.05\" />\n",
       "    <line x1=\"2.61\" y1=\"-4.85\" x2=\"3.14\" y2=\"-4.54\" />\n",
       "    <line x1=\"2.25\" y1=\"-4.85\" x2=\"1.71\" y2=\"-4.54\" />\n",
       "    <line x1=\"3.14\" y1=\"-4.54\" x2=\"3.14\" y2=\"-3.71\" />\n",
       "    <line x1=\"3.14\" y1=\"-3.71\" x2=\"2.61\" y2=\"-3.41\" />\n",
       "    <line x1=\"2.43\" y1=\"-3.09\" x2=\"2.43\" y2=\"-2.69\" />\n",
       "    <line x1=\"2.25\" y1=\"-3.41\" x2=\"1.71\" y2=\"-3.71\" />\n",
       "    <line x1=\"2.43\" y1=\"-2.27\" x2=\"2.43\" y2=\"-1.65\" />\n",
       "    <line x1=\"2.64\" y1=\"-2.44\" x2=\"3.04\" y2=\"-2.44\" />\n",
       "    <line x1=\"2.64\" y1=\"-2.52\" x2=\"3.04\" y2=\"-2.52\" />\n",
       "    <line x1=\"2.22\" y1=\"-2.52\" x2=\"1.81\" y2=\"-2.52\" />\n",
       "    <line x1=\"2.22\" y1=\"-2.44\" x2=\"1.81\" y2=\"-2.44\" />\n",
       "    <line x1=\"2.43\" y1=\"-1.65\" x2=\"3.14\" y2=\"-1.24\" />\n",
       "    <line x1=\"2.47\" y1=\"-1.72\" x2=\"3.18\" y2=\"-1.31\" stroke-dasharray=\"0.20 0.10\" />\n",
       "    <line x1=\"2.43\" y1=\"-1.65\" x2=\"1.71\" y2=\"-1.24\" />\n",
       "    <line x1=\"2.47\" y1=\"-1.58\" x2=\"1.75\" y2=\"-1.17\" stroke-dasharray=\"0.20 0.10\" />\n",
       "    <line x1=\"3.14\" y1=\"-1.24\" x2=\"3.14\" y2=\"-0.41\" />\n",
       "    <line x1=\"3.22\" y1=\"-1.24\" x2=\"3.22\" y2=\"-0.41\" stroke-dasharray=\"0.20 0.10\" />\n",
       "    <line x1=\"3.14\" y1=\"-0.41\" x2=\"2.43\" y2=\"-0.00\" />\n",
       "    <line x1=\"3.18\" y1=\"-0.34\" x2=\"2.47\" y2=\"0.07\" stroke-dasharray=\"0.20 0.10\" />\n",
       "    <line x1=\"2.43\" y1=\"-0.00\" x2=\"1.71\" y2=\"-0.41\" />\n",
       "    <line x1=\"2.39\" y1=\"0.07\" x2=\"1.67\" y2=\"-0.34\" stroke-dasharray=\"0.20 0.10\" />\n",
       "    <line x1=\"1.71\" y1=\"-0.41\" x2=\"1.18\" y2=\"-0.11\" />\n",
       "    <line x1=\"1.71\" y1=\"-0.41\" x2=\"1.71\" y2=\"-1.24\" />\n",
       "    <line x1=\"1.63\" y1=\"-0.41\" x2=\"1.63\" y2=\"-1.24\" stroke-dasharray=\"0.20 0.10\" />\n",
       "    <line x1=\"1.71\" y1=\"-3.71\" x2=\"1.71\" y2=\"-4.54\" />\n",
       "  </g>\n",
       "  <g font-family=\"sans-serif\">\n",
       "    <g fill=\"#FF0D0D\">\n",
       "      <text x=\"6.07\" y=\"-1.29\" font-size=\"0.40\">O</text>\n",
       "    </g>\n",
       "    <g fill=\"#FF0D0D\">\n",
       "      <text x=\"4.83\" y=\"-0.57\" font-size=\"0.40\">O</text>\n",
       "    </g>\n",
       "  </g>\n",
       "  <g fill=\"none\" stroke=\"black\" stroke-width=\".03\">\n",
       "    <line x1=\"6.21\" y1=\"-2.86\" x2=\"5.79\" y2=\"-2.14\" />\n",
       "    <line x1=\"5.79\" y1=\"-2.14\" x2=\"6.10\" y2=\"-1.61\" />\n",
       "    <line x1=\"6.10\" y1=\"-1.25\" x2=\"5.79\" y2=\"-0.71\" />\n",
       "    <line x1=\"5.79\" y1=\"-0.71\" x2=\"6.21\" y2=\"-0.00\" />\n",
       "    <line x1=\"5.79\" y1=\"-0.75\" x2=\"5.18\" y2=\"-0.75\" />\n",
       "    <line x1=\"5.79\" y1=\"-0.67\" x2=\"5.18\" y2=\"-0.67\" />\n",
       "  </g>\n",
       "  <g font-family=\"sans-serif\">\n",
       "    <g fill=\"#1FF01F\">\n",
       "      <text x=\"10.07\" y=\"-2.18\" font-size=\"0.40\">Cl</text>\n",
       "    </g>\n",
       "    <g fill=\"#3050F8\">\n",
       "      <text x=\"13.14\" y=\"-3.16\" font-size=\"0.40\">N</text>\n",
       "    </g>\n",
       "    <g fill=\"#FFFF30\">\n",
       "      <text x=\"13.14\" y=\"-2.33\" font-size=\"0.40\">S</text>\n",
       "    </g>\n",
       "    <g fill=\"#FF0D0D\">\n",
       "      <text x=\"14.57\" y=\"0.14\" font-size=\"0.40\">O</text>\n",
       "    </g>\n",
       "    <g fill=\"#FF0D0D\">\n",
       "      <text x=\"13.96\" y=\"-2.33\" font-size=\"0.40\">O</text>\n",
       "    </g>\n",
       "    <g fill=\"#FF0D0D\">\n",
       "      <text x=\"12.31\" y=\"-2.33\" font-size=\"0.40\">O</text>\n",
       "    </g>\n",
       "    <g fill=\"#3050F8\">\n",
       "      <text x=\"13.14\" y=\"-4.81\" font-size=\"0.40\">N</text>\n",
       "    </g>\n",
       "  </g>\n",
       "  <g fill=\"none\" stroke=\"black\" stroke-width=\".03\">\n",
       "    <line x1=\"13.28\" y1=\"-3.09\" x2=\"13.28\" y2=\"-2.69\" />\n",
       "    <line x1=\"13.10\" y1=\"-3.40\" x2=\"12.56\" y2=\"-3.71\" />\n",
       "    <line x1=\"13.46\" y1=\"-3.41\" x2=\"13.99\" y2=\"-3.71\" />\n",
       "    <line x1=\"13.28\" y1=\"-2.27\" x2=\"13.28\" y2=\"-1.65\" />\n",
       "    <line x1=\"13.49\" y1=\"-2.44\" x2=\"13.89\" y2=\"-2.44\" />\n",
       "    <line x1=\"13.49\" y1=\"-2.52\" x2=\"13.89\" y2=\"-2.52\" />\n",
       "    <line x1=\"13.07\" y1=\"-2.52\" x2=\"12.66\" y2=\"-2.52\" />\n",
       "    <line x1=\"13.07\" y1=\"-2.44\" x2=\"12.66\" y2=\"-2.44\" />\n",
       "    <line x1=\"13.28\" y1=\"-1.65\" x2=\"13.99\" y2=\"-1.24\" />\n",
       "    <line x1=\"13.32\" y1=\"-1.72\" x2=\"14.03\" y2=\"-1.31\" stroke-dasharray=\"0.20 0.10\" />\n",
       "    <line x1=\"13.28\" y1=\"-1.65\" x2=\"12.56\" y2=\"-1.24\" />\n",
       "    <line x1=\"13.32\" y1=\"-1.58\" x2=\"12.60\" y2=\"-1.17\" stroke-dasharray=\"0.20 0.10\" />\n",
       "    <line x1=\"13.99\" y1=\"-1.24\" x2=\"13.99\" y2=\"-0.41\" />\n",
       "    <line x1=\"14.07\" y1=\"-1.24\" x2=\"14.07\" y2=\"-0.41\" stroke-dasharray=\"0.20 0.10\" />\n",
       "    <line x1=\"13.99\" y1=\"-0.41\" x2=\"14.52\" y2=\"-0.10\" />\n",
       "    <line x1=\"13.99\" y1=\"-0.41\" x2=\"13.28\" y2=\"-0.00\" />\n",
       "    <line x1=\"14.03\" y1=\"-0.34\" x2=\"13.32\" y2=\"0.07\" stroke-dasharray=\"0.20 0.10\" />\n",
       "    <line x1=\"13.28\" y1=\"-0.00\" x2=\"12.56\" y2=\"-0.41\" />\n",
       "    <line x1=\"13.24\" y1=\"0.07\" x2=\"12.52\" y2=\"-0.34\" stroke-dasharray=\"0.20 0.10\" />\n",
       "    <line x1=\"12.56\" y1=\"-0.41\" x2=\"12.56\" y2=\"-1.24\" />\n",
       "    <line x1=\"12.48\" y1=\"-0.41\" x2=\"12.48\" y2=\"-1.24\" stroke-dasharray=\"0.20 0.10\" />\n",
       "    <line x1=\"12.56\" y1=\"-3.71\" x2=\"12.56\" y2=\"-4.54\" />\n",
       "    <line x1=\"12.56\" y1=\"-4.54\" x2=\"13.10\" y2=\"-4.85\" />\n",
       "    <line x1=\"13.46\" y1=\"-4.84\" x2=\"13.99\" y2=\"-4.54\" />\n",
       "    <line x1=\"13.99\" y1=\"-4.54\" x2=\"13.99\" y2=\"-3.71\" />\n",
       "  </g>\n",
       "</svg>"
      ],
      "text/plain": [
       "<CGRtools.containers.reaction.ReactionContainer at 0x7f50fbd8e348>"
      ]
     },
     "execution_count": 34,
     "metadata": {},
     "output_type": "execute_result"
    }
   ],
   "source": [
    "reactions_by_molecule[5]"
   ]
  },
  {
   "cell_type": "code",
   "execution_count": 35,
   "metadata": {},
   "outputs": [
    {
     "data": {
      "text/plain": [
       "[(<CGRtools.containers.reaction.ReactionContainer at 0x7f50ef966d68>, 1.0)]"
      ]
     },
     "execution_count": 35,
     "metadata": {},
     "output_type": "execute_result"
    }
   ],
   "source": [
    "reactions_with_similar_product[:5] \n",
    "# list of tuples (Reaction, Tanimoto(similarity of query to molecule in found reaction))"
   ]
  },
  {
   "cell_type": "markdown",
   "metadata": {},
   "source": [
    "# Reaction Search"
   ]
  },
  {
   "cell_type": "markdown",
   "metadata": {},
   "source": [
    "1. Structure search"
   ]
  },
  {
   "cell_type": "code",
   "execution_count": 28,
   "metadata": {},
   "outputs": [],
   "source": [
    "query = RDFread('reactions.rdf').read()[0]\n",
    "with db_session:\n",
    "    reaction = db.Reaction.find_structure(query)"
   ]
  },
  {
   "cell_type": "code",
   "execution_count": 29,
   "metadata": {},
   "outputs": [
    {
     "data": {
      "text/plain": [
       "(Reaction[1],\n",
       " <CGRtools.containers.reaction.ReactionContainer at 0x7f50fbd8e1c8>)"
      ]
     },
     "execution_count": 29,
     "metadata": {},
     "output_type": "execute_result"
    }
   ],
   "source": [
    "reaction, query"
   ]
  },
  {
   "cell_type": "code",
   "execution_count": 42,
   "metadata": {
    "pycharm": {
     "name": "#%%\n"
    }
   },
   "outputs": [],
   "source": []
  }
 ],
 "metadata": {
  "kernelspec": {
   "display_name": "cgrdb",
   "language": "python",
   "name": "cgrdb"
  },
  "language_info": {
   "codemirror_mode": {
    "name": "ipython",
    "version": 3
   },
   "file_extension": ".py",
   "mimetype": "text/x-python",
   "name": "python",
   "nbconvert_exporter": "python",
   "pygments_lexer": "ipython3",
   "version": "3.7.1"
  },
  "pycharm": {
   "stem_cell": {
    "cell_type": "raw",
    "source": [],
    "metadata": {
     "collapsed": false
    }
   }
  }
 },
 "nbformat": 4,
 "nbformat_minor": 2
}